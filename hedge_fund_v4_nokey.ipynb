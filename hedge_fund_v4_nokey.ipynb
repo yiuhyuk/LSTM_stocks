{
 "cells": [
  {
   "cell_type": "code",
   "execution_count": null,
   "metadata": {},
   "outputs": [],
   "source": [
    "import quandl\n",
    "quandl.ApiConfig.api_key = '1w1X-kbMsxdg4Ts1disD'\n",
    "\n",
    "import matplotlib.pyplot as plt\n",
    "import seaborn as sns\n",
    "import numpy as np\n",
    "import pandas as pd\n",
    "import math\n",
    "from keras.models import Sequential\n",
    "from keras.layers import Dense, LSTM, Flatten, Dropout\n",
    "from keras.preprocessing.sequence import TimeseriesGenerator\n",
    "from sklearn.preprocessing import MinMaxScaler\n",
    "from sklearn.metrics import mean_squared_error"
   ]
  },
  {
   "cell_type": "code",
   "execution_count": null,
   "metadata": {},
   "outputs": [],
   "source": [
    "price_table = quandl.get_table('SHARADAR/SEP', \n",
    "                               ticker=['AMD', 'NVDA',\n",
    "                                       'BAC', 'C',\n",
    "                                       'FB', 'AMZN', 'NFLX',\n",
    "                                       'F', 'GM',\n",
    "                                       'T', 'CMCSA', 'DIS',\n",
    "                                       'AAPL', 'MSFT', \n",
    "                                       'FCX', 'SIRI',\n",
    "                                       'NUS', 'EL',\n",
    "                                       'MU', 'INTC',\n",
    "                                       'UAL', 'AAL',\n",
    "                                       'TRIP', 'BKNG',\n",
    "                                       'KO', 'PEP',\n",
    "                                       'XOM', 'CVX'\n",
    "                                      ]\n",
    "                               , paginate=True)"
   ]
  },
  {
   "cell_type": "code",
   "execution_count": null,
   "metadata": {},
   "outputs": [],
   "source": [
    "sorted_table = price_table.sort_values(by=['ticker','date'], ascending=True).copy()\n",
    "tickers = sorted(list(set(sorted_table['ticker'])))\n",
    "price_stock = price_table[price_table['ticker']==tickers[0]][['date','close']].sort_values(by='date', ascending=True)\n",
    "price_stock.reset_index(inplace=True)"
   ]
  },
  {
   "cell_type": "code",
   "execution_count": null,
   "metadata": {},
   "outputs": [],
   "source": [
    "sns.lineplot(x='date', y='close', data=price_stock)"
   ]
  },
  {
   "cell_type": "code",
   "execution_count": null,
   "metadata": {},
   "outputs": [],
   "source": [
    "close_df = pd.DataFrame()\n",
    "close_df['date'] = price_stock['date']\n",
    "volume_df = pd.DataFrame()\n",
    "close_df['date'] = price_stock['date']\n",
    "\n",
    "for ticker in tickers:\n",
    "    close_df[ticker] = list(sorted_table[sorted_table['ticker']==ticker]['close'])\n",
    "    volume_ticker = 'v_' + ticker\n",
    "    volume_df[volume_ticker] = list(sorted_table[sorted_table['ticker']==ticker]['volume'])\n",
    "\n",
    "no_date_df = close_df[list(close_df.columns)[1:]]\n",
    "return_df = no_date_df/no_date_df.shift(1) - 1"
   ]
  },
  {
   "cell_type": "code",
   "execution_count": null,
   "metadata": {},
   "outputs": [],
   "source": [
    "stock_corr = return_df.corr()\n",
    "fig, ax = plt.subplots(figsize=(15,15))\n",
    "sns.heatmap(stock_corr, square=True, cmap=\"RdBu_r\");"
   ]
  },
  {
   "cell_type": "code",
   "execution_count": null,
   "metadata": {},
   "outputs": [],
   "source": [
    "train_perc = 0.40\n",
    "\n",
    "return_df_2 = pd.concat([return_df, volume_df], axis=1)\n",
    "\n",
    "train_len = int(return_df.shape[0] * (train_perc))\n",
    "stocks_to_trade = ['BAC','C']\n",
    "volume_to_trade = ['v_'+ticker for ticker in stocks_to_trade]\n",
    "for i in volume_to_trade:\n",
    "    stocks_to_trade.append(i)\n",
    "\n",
    "train = return_df_2[stocks_to_trade][1:train_len].copy()\n",
    "train['diff'] = train[stocks_to_trade[0]] - train[stocks_to_trade[1]]\n",
    "train.reset_index(inplace=True, drop=True)\n",
    "\n",
    "test = return_df_2[stocks_to_trade][train_len:-400].copy()\n",
    "test['diff'] = test[stocks_to_trade[0]] - test[stocks_to_trade[1]]\n",
    "test.reset_index(inplace=True, drop=True)\n",
    "\n",
    "true_test = return_df_2[stocks_to_trade][-400:].copy()\n",
    "true_test['diff'] = true_test[stocks_to_trade[0]] - true_test[stocks_to_trade[1]]\n",
    "true_test.reset_index(inplace=True, drop=True)\n",
    "\n",
    "feature_names = volume_to_trade\n",
    "feature_names.append('diff')"
   ]
  },
  {
   "cell_type": "code",
   "execution_count": null,
   "metadata": {},
   "outputs": [],
   "source": [
    "def make_variables(dataset, lags, look_back, predict_window):\n",
    "    features = lags+1\n",
    "    start = look_back\n",
    "    stop = len(dataset) - lags - predict_window\n",
    "\n",
    "    lstm_in_X = np.zeros(shape=(stop-start, look_back+1, features))\n",
    "    lstm_in_Y = np.zeros(shape=(stop-start, look_back+1))\n",
    "\n",
    "    iter_list = [num for num in range(look_back+1)][::-1]\n",
    "    for i in range(start, stop):\n",
    "        for index, j in enumerate(iter_list):\n",
    "            X = dataset[i-j : i-j+lags+1, -1]\n",
    "            lstm_in_X[i-start, index] = np.ravel(X)\n",
    "            Y = dataset[i-j+lags+1, -1]\n",
    "            lstm_in_Y[i-start, index] = Y\n",
    "    return lstm_in_X, lstm_in_Y, features"
   ]
  },
  {
   "cell_type": "code",
   "execution_count": null,
   "metadata": {},
   "outputs": [],
   "source": [
    "# Create and fit the LSTM network\n",
    "\n",
    "dataset = np.matrix(train[feature_names])\n",
    "lags = 30\n",
    "look_back = 3        # 0 is a look_back of 1, 1 is a look_back of 2, etc.\n",
    "predict_window = 1\n",
    "\n",
    "lstm_in_X, lstm_in_Y, features = make_variables(dataset, lags, look_back, predict_window)\n",
    "\n",
    "train_X = lstm_in_X\n",
    "train_Y = lstm_in_Y\n",
    "\n",
    "model = Sequential()\n",
    "model.add(LSTM(32, input_shape=(look_back+1, features)))\n",
    "model.add(Dropout(0.2))\n",
    "model.add(Dense(look_back+1))\n",
    "model.compile(loss='mean_absolute_error', optimizer='adam')\n",
    "model.fit(train_X, train_Y, epochs=100, batch_size=25, verbose=1)"
   ]
  },
  {
   "cell_type": "code",
   "execution_count": null,
   "metadata": {},
   "outputs": [],
   "source": [
    "pred_Y_train = model.predict(train_X)\n",
    "predictions = pred_Y_train[:,-1]\n",
    "actuals = train_Y[:,-1]\n",
    "\n",
    "fig, ax1 = plt.subplots(figsize=(15,7))\n",
    "plt.plot(predictions)\n",
    "plt.plot(actuals)"
   ]
  },
  {
   "cell_type": "code",
   "execution_count": null,
   "metadata": {},
   "outputs": [],
   "source": [
    "plt.scatter(x=predictions, y=actuals)"
   ]
  },
  {
   "cell_type": "code",
   "execution_count": null,
   "metadata": {},
   "outputs": [],
   "source": [
    "init = 100\n",
    "position = []\n",
    "for i, val in enumerate(list(predictions)):\n",
    "    if val >= 0:\n",
    "        position.append(1)\n",
    "    else:\n",
    "        position.append(-1)\n",
    "        \n",
    "plt.plot(np.cumprod((np.array(position)*actuals)+1));"
   ]
  },
  {
   "cell_type": "code",
   "execution_count": null,
   "metadata": {},
   "outputs": [],
   "source": [
    "# Expanding window test where I fit the model again every day\n",
    "\n",
    "expand_set = np.matrix(test[feature_names])\n",
    "\n",
    "lags = 30\n",
    "look_back = 3        # 0 is a look_back of 1, 1 is a look_back of 2, etc.\n",
    "predict_window = 1\n",
    "\n",
    "predictions_test = []\n",
    "actuals_test = []\n",
    "\n",
    "print(expand_set.shape[0] - 1)\n",
    "\n",
    "for i in range(0, expand_set.shape[0] - 1):\n",
    "    print(i)\n",
    "    curr_row = expand_set[i]\n",
    "    test_row = expand_set[i+1]\n",
    "    dataset = np.append(dataset, curr_row, axis=0)\n",
    "    lstm_in_X, lstm_in_Y, features = make_variables(dataset, lags, look_back, predict_window)\n",
    "    train_X = lstm_in_X\n",
    "    train_Y = lstm_in_Y\n",
    "    \n",
    "    # Fit the data all the way up to curr_row (today) - only fitting every 25 days though\n",
    "    if i%1 == 0:\n",
    "        model.fit(train_X, train_Y, epochs=10, batch_size=25, verbose=1)\n",
    "    \n",
    "    # Predict the next day (out of sample) - data for next day is in test_row\n",
    "    dataset_test = np.append(dataset, test_row, axis=0)\n",
    "    lstm_in_X_test, lstm_in_Y_test, features = make_variables(dataset_test, lags, look_back, predict_window)\n",
    "    test_X = lstm_in_X_test\n",
    "    pred_Y_test = model.predict(test_X)\n",
    "    predict_test = pred_Y_test[-1,-1]\n",
    "    actual_test = test_row[-1,-1]\n",
    "    # Store predictions and actuals to for calculating money made and plotting\n",
    "    predictions_test.append(predict_test)\n",
    "    actuals_test.append(actual_test)"
   ]
  },
  {
   "cell_type": "code",
   "execution_count": null,
   "metadata": {},
   "outputs": [],
   "source": [
    "init = 100\n",
    "position_test = []\n",
    "for i, val in enumerate(list(predictions_test)):\n",
    "    if val >= 0:\n",
    "        position_test.append(1)\n",
    "    else:\n",
    "        position_test.append(-1)\n",
    "        \n",
    "plt.plot(np.cumprod((np.array(position_test)*actuals_test)+1));"
   ]
  },
  {
   "cell_type": "code",
   "execution_count": null,
   "metadata": {},
   "outputs": [],
   "source": [
    "# Quick (non-expanding) backtest for sanity checking\n",
    "\n",
    "dataset_test = np.matrix(test[feature_names])\n",
    "lstm_in_X, lstm_in_Y, features = make_variables(dataset_test, lags, look_back, predict_window)\n",
    "    \n",
    "test_X = lstm_in_X\n",
    "test_Y = lstm_in_Y\n",
    "\n",
    "pred_Y_test = model.predict(test_X)\n",
    "predictions_test = pred_Y_test[:,-1]\n",
    "actuals_test = test_Y[:,-1]\n",
    "\n",
    "init = 100\n",
    "position_test = []\n",
    "for i, val in enumerate(list(predictions_test)):\n",
    "    if val >= 0:\n",
    "        position_test.append(1)\n",
    "    else:\n",
    "        position_test.append(-1)\n",
    "        \n",
    "plt.plot(np.cumprod((np.array(position_test)*actuals_test)+1));"
   ]
  }
 ],
 "metadata": {
  "kernelspec": {
   "display_name": "Python 3",
   "language": "python",
   "name": "python3"
  },
  "language_info": {
   "codemirror_mode": {
    "name": "ipython",
    "version": 3
   },
   "file_extension": ".py",
   "mimetype": "text/x-python",
   "name": "python",
   "nbconvert_exporter": "python",
   "pygments_lexer": "ipython3",
   "version": "3.7.1"
  }
 },
 "nbformat": 4,
 "nbformat_minor": 2
}
